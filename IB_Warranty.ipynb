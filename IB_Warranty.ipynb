{
 "cells": [
  {
   "cell_type": "markdown",
   "id": "6969a178",
   "metadata": {},
   "source": [
    "# 基于物料使用量和商品在保量的相关性分析，预测物料使用量的模型"
   ]
  },
  {
   "cell_type": "markdown",
   "id": "d37a1c25",
   "metadata": {},
   "source": [
    "## Phase 1 Proposal"
   ]
  },
  {
   "cell_type": "markdown",
   "id": "48df4227",
   "metadata": {},
   "source": [
    "### 项目背景\n",
    "有商品在保修期内的数量和物料消耗的数据，通过找出物料消耗和在保修期内数据的关系做需求预测，实现节约仓储和国际物流运输成本的目的。\n",
    "\n",
    "### 基本思想\n",
    "先画个图看看correlation of x and y，感觉有搞头就回归试试，试了效果差就换模型"
   ]
  },
  {
   "cell_type": "markdown",
   "id": "c8a8e7fa",
   "metadata": {},
   "source": [
    "## Phase 2  Data_Cleaning"
   ]
  },
  {
   "cell_type": "markdown",
   "id": "802eb250",
   "metadata": {},
   "source": [
    "### 导入数据"
   ]
  },
  {
   "cell_type": "code",
   "execution_count": 13,
   "id": "559c4c50",
   "metadata": {},
   "outputs": [],
   "source": [
    "import scipy.stats as st\n",
    "import pandas as pd"
   ]
  },
  {
   "cell_type": "code",
   "execution_count": 14,
   "id": "6146ef2f",
   "metadata": {},
   "outputs": [],
   "source": [
    "usage = pd.read_excel(r'/Users/dongwenlu/Desktop/文璐/找工/Lenovo/USAGE.xlsx') \n",
    "install_base = pd.read_excel(r'/Users/dongwenlu/Desktop/文璐/找工/Lenovo/INSTALL_BASE.xlsx')"
   ]
  },
  {
   "cell_type": "markdown",
   "id": "1c363d7c",
   "metadata": {},
   "source": [
    "### 缺失值处理\n",
    "#### 缺失值类型\n",
    "1. Missing Completely at Random（MCAR）\n",
    "\n",
    "2. Missing at Random（MAR）\n",
    "\n",
    "3. Missing NOT at Random（MNAR）\n",
    "\n",
    "#### 缺失值查看\n",
    "1. isnull( )\n",
    "2. notnull( )\n",
    "\n",
    "#### 缺失值移除\n",
    "1. dropna( )\n",
    "    缺失值占比在40%以上即可drop\n",
    "    - drop(axis=1)\n",
    "    \n",
    "#### 缺失值填充\n",
    "1. univariate 单变量\n",
    "- fillna\n",
    "    - df2.fillna(value='填充') \n",
    "    - df2.fillna(method = 'ffill') \n",
    "    - df2.fillna(method = 'bfill') \n",
    "- replace\n",
    "    - df2.replace(np.nan, -1)\n",
    "- SimpleImputer"
   ]
  },
  {
   "cell_type": "code",
   "execution_count": null,
   "id": "0ddf7238",
   "metadata": {},
   "outputs": [],
   "source": [
    " from sklearn.impute import SimpleImputer\n",
    "         imp_mean = SimpleImputer( strategy='mean') \n",
    "         imp_mean.fit(df)\n",
    "         imputed_df = imp_mean.transform(df) "
   ]
  },
  {
   "cell_type": "markdown",
   "id": "c9d8c590",
   "metadata": {},
   "source": [
    "2. multivariate 多变量\n",
    "- Impyute"
   ]
  },
  {
   "cell_type": "code",
   "execution_count": null,
   "id": "39f869d1",
   "metadata": {},
   "outputs": [],
   "source": [
    "from sklearn.datasets import fetch_california_housing\n",
    "from sklearn.linear_model import LinearRegression\n",
    "from sklearn.model_selection import StratifiedKFold\n",
    "from sklearn.metrics import mean_squared_error\n",
    "from math import sqrt\n",
    "import random\n",
    "import numpy as np\n",
    "random.seed(0)\n",
    "\n",
    "#Fetching the dataset\n",
    "import pandas as pd\n",
    "dataset = fetch_california_housing()\n",
    "train, target = pd.DataFrame(dataset.data), pd.DataFrame(dataset.target)\n",
    "train.columns = ['0','1','2','3','4','5','6','7']\n",
    "train.insert(loc=len(train.columns), column='target', value=target)\n",
    "\n",
    "#Randomly replace 40% of the first column with NaN values\n",
    "column = train['0']\n",
    "print(column.size)\n",
    "missing_pct = int(column.size * 0.4)\n",
    "i = [random.choice(range(column.shape[0])) for _ in range(missing_pct)]\n",
    "column[i] = np.NaN\n",
    "\n",
    "import sys\n",
    "from impyute.imputation.cs import fast_knn\n",
    "sys.setrecursionlimit(100000) #Increase the recursion limit of the OS\n",
    "\n",
    "# start the KNN training\n",
    "imputed_training_impyute=fast_knn(train.values, k=30)\n",
    "imputed_training_impyute\n",
    "\n",
    "from impyute.imputation.cs import mice\n",
    "imputed_training_MICE=mice(train.values)\n",
    "imputed_training_MICE\n",
    "\n",
    "from sklearn.impute import KNNImputer\n",
    "imputer = KNNImputer(n_neighbors=30)\n",
    "imputer.fit(train)\n",
    "# transform the dataset\n",
    "imputed_training_KNNImputer = imputer.transform(train)\n",
    "imputed_training_KNNImputer"
   ]
  },
  {
   "cell_type": "markdown",
   "id": "37b34b66",
   "metadata": {},
   "source": [
    "## Phase 3 Data_Analysis"
   ]
  },
  {
   "cell_type": "markdown",
   "id": "68ce4af9",
   "metadata": {},
   "source": [
    "### 回归分析 "
   ]
  },
  {
   "cell_type": "markdown",
   "id": "91957a84",
   "metadata": {},
   "source": [
    "先取一个特定的pn 第一个表按年月取出数据 匹配第二个表的数据 然后画heatmap看看他们的相关性"
   ]
  },
  {
   "cell_type": "code",
   "execution_count": 19,
   "id": "728102db",
   "metadata": {},
   "outputs": [
    {
     "name": "stdout",
     "output_type": "stream",
     "text": [
      "['PN', 'TOPMOST', 'MT', 'FSL_NO', 'CITY', 'LOCATION_NAME', 'STORAGE_LOCATION', 'ABBR', 'REGION', 'GEO', 'StartDate', 'EndDate', 'WarrantyCategory', 'FIRST_IB', 'SLA', 'LocationPriority', 201101, 201102, 201103, 201104, 201105, 201106, 201107, 201108, 201109, 201110, 201111, 201112, 201201, 201202, 201203, 201204, 201205, 201206, 201207, 201208, 201209, 201210, 201211, 201212, 201301, 201302, 201303, 201304, 201305, 201306, 201307, 201308, 201309, 201310, 201311, 201312, 201401, 201402, 201403, 201404, 201405, 201406, 201407, 201408, 201409, 201410, 201411, 201412, 201501, 201502, 201503, 201504, 201505, 201506, 201507, 201508, 201509, 201510, 201511, 201512, 201601, 201602, 201603, 201604, 201605, 201606, 201607, 201608, 201609, 201610, 201611, 201612, 201701, 201702, 201703, 201704, 201705, 201706, 201707, 201708, 201709, 201710, 201711, 201712, 201801, 201802, 201803, 201804, 201805, 201806, 201807, 201808, 201809, 201810, 201811, 201812, 201901, 201902, 201903, 201904, 201905, 201906, 201907, 201908, 201909, 201910, 201911, 201912, 202001, 202002, 202003, 202004, 202005, 202006, 202007, 202008, 202009, 202010, 202011, 202012, 202101, 202102, 202103, 202104, 202105, 202106, 202107, 202108, 202109, 202110, 202111, 202112, 202201, 202202, 202203, 202204, 202205, 202206, 202207, 202208, 202209, 202210, 202211, 202212, 202301, 202302, 202303, 202304, 202305, 202306, 202307, 202308, 202309, 202310, 202311, 202312, 202401, 202402, 202403, 202404, 202405, 202406, 202407, 202408, 202409, 202410, 202411, 202412, 202501, 202502, 202503, 202504, 202505, 202506, 202507, 202508, 202509, 202510, 202511, 202512, 202601, 202602, 202603, 202604, 202605, 202606, 202607, 202608, 202609, 202610, 202611, 202612, 202701, 202702, 202703, 202704, 202705, 202706, 202707, 202708, 202709, 202710, 202711, 202712, 202801, 202802, 202803, 202804, 202805, 202806, 202807, 202808, 202809, 202810, 202811, 202812, 202901, 202902, 202903, 202904, 202905, 202906, 202907, 202908, 202909, 202910, 202911, 202912, 203001, 203002, 203003, 203004, 203005, 203006, 203007, 203008, 203009, 203010, 203011, 203012, 203101, 203102, 203103, 203104, 203105, 203106, 203107, 203108, 203109, 203110, 203111, 203112, 203201, 203202, 203203, 203204, 203205, 203206, 203207, 203208, 203209, 203210, 203211, 203212, 203301, 203302, 203303, 203304, 203305, 203306, 203307, 203308, 203309, 203310, 203311, 203312, 203401, 203402, 203403, 203404, 203405, 203406, 203407, 203408, 203409, 203410, 203411, 203412, 203501, 203502, 203503, 203504, 203505, 203506, 203507, 203508, 203509, 203510, 203511, 203512, 203601, 203602, 203603, 203604, 203605, 203606, 203607, 203608, 203609, 203610, 203611, 203612, 'Data_From', 'RNK']\n"
     ]
    },
    {
     "data": {
      "text/plain": [
       "<AxesSubplot:xlabel='sumqty'>"
      ]
     },
     "execution_count": 19,
     "metadata": {},
     "output_type": "execute_result"
    },
    {
     "data": {
      "image/png": "[encoded data removed]",
      "text/plain": [
       "<Figure size 432x288 with 1 Axes>"
      ]
     },
     "metadata": {
      "needs_background": "light"
     },
     "output_type": "display_data"
    }
   ],
   "source": [
    "import pandas as pd\n",
    "input=usage\n",
    "selected_input=input[input['PN']=='00AD006'][['Corddate','Qty']]\n",
    "selected_input['Corddate']=selected_input['Corddate'].astype(str)\n",
    "selected_input['month']=selected_input.Corddate.apply(lambda x:x.split('-')[0]+x.split('-')[1])\n",
    "#selected_input['month']=selected_input.Corddate.apply(lambda x:x.split('/')[0]+'0'*(2-len(x.split('/')[1]))+x.split('/')[1])\n",
    "selected_input['month_new']=selected_input['month']\n",
    "selected_input.set_index(\"month\",inplace=True)\n",
    "selected_input['sumqty']=selected_input['Qty'].groupby(by='month').sum()\n",
    "selected_input.sort_values(by='month')\n",
    "inp2=install_base\n",
    "ans=[]\n",
    "for column in inp2:\n",
    "    ans.append(column)\n",
    "print(ans)\n",
    "inp2=inp2[inp2['PN']=='00AD006']\n",
    "selected_input['bl']=0\n",
    "for i in selected_input['month_new']:\n",
    "    i=str(i)\n",
    "    if (i not in ans):\n",
    "        continue\n",
    "    selected_input.loc[selected_input['month_new']==i,'bl']=sum(inp2[inp2['PN']=='00AD006'][i].values)\n",
    "selected_input.plot(x='sumqty',y='bl')"
   ]
  },
  {
   "cell_type": "code",
   "execution_count": 20,
   "id": "64f6a987",
   "metadata": {},
   "outputs": [
    {
     "data": {
      "text/html": [
       "<div>\n",
       "<style scoped>\n",
       "    .dataframe tbody tr th:only-of-type {\n",
       "        vertical-align: middle;\n",
       "    }\n",
       "\n",
       "    .dataframe tbody tr th {\n",
       "        vertical-align: top;\n",
       "    }\n",
       "\n",
       "    .dataframe thead th {\n",
       "        text-align: right;\n",
       "    }\n",
       "</style>\n",
       "<table border=\"1\" class=\"dataframe\">\n",
       "  <thead>\n",
       "    <tr style=\"text-align: right;\">\n",
       "      <th></th>\n",
       "      <th>Corddate</th>\n",
       "      <th>Qty</th>\n",
       "      <th>month_new</th>\n",
       "      <th>sumqty</th>\n",
       "      <th>bl</th>\n",
       "    </tr>\n",
       "    <tr>\n",
       "      <th>month</th>\n",
       "      <th></th>\n",
       "      <th></th>\n",
       "      <th></th>\n",
       "      <th></th>\n",
       "      <th></th>\n",
       "    </tr>\n",
       "  </thead>\n",
       "  <tbody>\n",
       "    <tr>\n",
       "      <th>201909</th>\n",
       "      <td>2019-09-03</td>\n",
       "      <td>1</td>\n",
       "      <td>201909</td>\n",
       "      <td>5</td>\n",
       "      <td>0</td>\n",
       "    </tr>\n",
       "    <tr>\n",
       "      <th>201909</th>\n",
       "      <td>2019-09-03</td>\n",
       "      <td>1</td>\n",
       "      <td>201909</td>\n",
       "      <td>5</td>\n",
       "      <td>0</td>\n",
       "    </tr>\n",
       "    <tr>\n",
       "      <th>201909</th>\n",
       "      <td>2019-09-03</td>\n",
       "      <td>1</td>\n",
       "      <td>201909</td>\n",
       "      <td>5</td>\n",
       "      <td>0</td>\n",
       "    </tr>\n",
       "    <tr>\n",
       "      <th>201909</th>\n",
       "      <td>2019-09-03</td>\n",
       "      <td>1</td>\n",
       "      <td>201909</td>\n",
       "      <td>5</td>\n",
       "      <td>0</td>\n",
       "    </tr>\n",
       "    <tr>\n",
       "      <th>201908</th>\n",
       "      <td>2019-08-19</td>\n",
       "      <td>1</td>\n",
       "      <td>201908</td>\n",
       "      <td>2</td>\n",
       "      <td>0</td>\n",
       "    </tr>\n",
       "    <tr>\n",
       "      <th>201908</th>\n",
       "      <td>2019-08-19</td>\n",
       "      <td>1</td>\n",
       "      <td>201908</td>\n",
       "      <td>2</td>\n",
       "      <td>0</td>\n",
       "    </tr>\n",
       "    <tr>\n",
       "      <th>201906</th>\n",
       "      <td>2019-06-03</td>\n",
       "      <td>1</td>\n",
       "      <td>201906</td>\n",
       "      <td>1</td>\n",
       "      <td>0</td>\n",
       "    </tr>\n",
       "    <tr>\n",
       "      <th>202004</th>\n",
       "      <td>2020-04-06</td>\n",
       "      <td>1</td>\n",
       "      <td>202004</td>\n",
       "      <td>1</td>\n",
       "      <td>0</td>\n",
       "    </tr>\n",
       "    <tr>\n",
       "      <th>201903</th>\n",
       "      <td>2019-03-19</td>\n",
       "      <td>1</td>\n",
       "      <td>201903</td>\n",
       "      <td>1</td>\n",
       "      <td>0</td>\n",
       "    </tr>\n",
       "    <tr>\n",
       "      <th>201907</th>\n",
       "      <td>2019-07-09</td>\n",
       "      <td>1</td>\n",
       "      <td>201907</td>\n",
       "      <td>1</td>\n",
       "      <td>0</td>\n",
       "    </tr>\n",
       "    <tr>\n",
       "      <th>201905</th>\n",
       "      <td>2019-05-14</td>\n",
       "      <td>1</td>\n",
       "      <td>201905</td>\n",
       "      <td>1</td>\n",
       "      <td>0</td>\n",
       "    </tr>\n",
       "    <tr>\n",
       "      <th>202011</th>\n",
       "      <td>2020-11-19</td>\n",
       "      <td>1</td>\n",
       "      <td>202011</td>\n",
       "      <td>1</td>\n",
       "      <td>0</td>\n",
       "    </tr>\n",
       "    <tr>\n",
       "      <th>201909</th>\n",
       "      <td>2019-09-03</td>\n",
       "      <td>1</td>\n",
       "      <td>201909</td>\n",
       "      <td>5</td>\n",
       "      <td>0</td>\n",
       "    </tr>\n",
       "  </tbody>\n",
       "</table>\n",
       "</div>"
      ],
      "text/plain": [
       "          Corddate  Qty month_new  sumqty  bl\n",
       "month                                        \n",
       "201909  2019-09-03    1    201909       5   0\n",
       "201909  2019-09-03    1    201909       5   0\n",
       "201909  2019-09-03    1    201909       5   0\n",
       "201909  2019-09-03    1    201909       5   0\n",
       "201908  2019-08-19    1    201908       2   0\n",
       "201908  2019-08-19    1    201908       2   0\n",
       "201906  2019-06-03    1    201906       1   0\n",
       "202004  2020-04-06    1    202004       1   0\n",
       "201903  2019-03-19    1    201903       1   0\n",
       "201907  2019-07-09    1    201907       1   0\n",
       "201905  2019-05-14    1    201905       1   0\n",
       "202011  2020-11-19    1    202011       1   0\n",
       "201909  2019-09-03    1    201909       5   0"
      ]
     },
     "execution_count": 20,
     "metadata": {},
     "output_type": "execute_result"
    }
   ],
   "source": [
    "selected_input"
   ]
  },
  {
   "cell_type": "markdown",
   "id": "613bd204",
   "metadata": {},
   "source": [
    "### 线性回归预测"
   ]
  },
  {
   "cell_type": "code",
   "execution_count": null,
   "id": "043bb303",
   "metadata": {},
   "outputs": [],
   "source": [
    "y = datas.iloc[:, 1] # 因变量为第 2 列数据\n",
    "x = datas.iloc[:, 2:6] # 自变量为第 3 列到第 6 列数据\n",
    "\n",
    "# 将 y 分别增加一个轴，以满足 sklearn 中回归模型认可的数据\n",
    "# 此时由于 x 是多元变量，则不用添加新的轴了\n",
    "y = y[:, np.newaxis]\n",
    "\n",
    "model = LinearRegression() # 构建线性模型\n",
    "model.fit(x, y) # 自变量在前，因变量在后\n",
    "predicts = model.predict(x) # 预测值\n",
    "R2 = model.score(x, y) # 拟合程度 R2\n",
    "print('R2 = %.3f' % R2) # 输出 R2\n",
    "coef = model.coef_ # 斜率\n",
    "intercept = model.intercept_ # 截距\n",
    "print(model.coef_, model.intercept_) # 输出斜率和截距"
   ]
  },
  {
   "cell_type": "markdown",
   "id": "805c2bcc",
   "metadata": {},
   "source": [
    "### 递归预测"
   ]
  },
  {
   "cell_type": "markdown",
   "id": "1131fe17",
   "metadata": {},
   "source": [
    "### 校验预测"
   ]
  },
  {
   "cell_type": "markdown",
   "id": "6dc1201e",
   "metadata": {},
   "source": [
    "加入extra term"
   ]
  },
  {
   "cell_type": "code",
   "execution_count": null,
   "id": "957f3520",
   "metadata": {},
   "outputs": [],
   "source": []
  }
 ],
 "metadata": {
  "kernelspec": {
   "display_name": "Python 3 (ipykernel)",
   "language": "python",
   "name": "python3"
  },
  "language_info": {
   "codemirror_mode": {
    "name": "ipython",
    "version": 3
   },
   "file_extension": ".py",
   "mimetype": "text/x-python",
   "name": "python",
   "nbconvert_exporter": "python",
   "pygments_lexer": "ipython3",
   "version": "3.9.7"
  }
 },
 "nbformat": 4,
 "nbformat_minor": 5
}
